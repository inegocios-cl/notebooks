{
    "metadata": {
        "kernelspec": {
            "name": "SQL",
            "display_name": "SQL",
            "language": "sql"
        },
        "language_info": {
            "name": "sql",
            "version": ""
        }
    },
    "nbformat_minor": 2,
    "nbformat": 4,
    "cells": [
        {
            "cell_type": "markdown",
            "source": [
                "lo primero es verificar los nombres de las tablas en Mansel Destino"
            ],
            "metadata": {
                "azdata_cell_guid": "8f3decb5-5a75-4c4a-ad96-3b33ba72da2a"
            }
        },
        {
            "cell_type": "code",
            "source": [
                "SELECT * FROM\r\n",
                "INFORMATION_SCHEMA.TABLES WHERE TABLE_TYPE = 'BASE TABLE'"
            ],
            "metadata": {
                "azdata_cell_guid": "2b3e4973-c611-4112-a43b-fc009e7cdeaa",
                "tags": []
            },
            "outputs": [
                {
                    "output_type": "display_data",
                    "data": {
                        "text/html": "(7 rows affected)"
                    },
                    "metadata": {}
                },
                {
                    "output_type": "display_data",
                    "data": {
                        "text/html": "Total execution time: 00:00:00.143"
                    },
                    "metadata": {}
                },
                {
                    "output_type": "execute_result",
                    "metadata": {},
                    "execution_count": 4,
                    "data": {
                        "application/vnd.dataresource+json": {
                            "schema": {
                                "fields": [
                                    {
                                        "name": "TABLE_CATALOG"
                                    },
                                    {
                                        "name": "TABLE_SCHEMA"
                                    },
                                    {
                                        "name": "TABLE_NAME"
                                    },
                                    {
                                        "name": "TABLE_TYPE"
                                    }
                                ]
                            },
                            "data": [
                                {
                                    "0": "hubcrop",
                                    "1": "dbo",
                                    "2": "`mansel_estimate`",
                                    "3": "BASE TABLE"
                                },
                                {
                                    "0": "hubcrop",
                                    "1": "dbo",
                                    "2": "`mansel_parametros_detalle_estimate`",
                                    "3": "BASE TABLE"
                                },
                                {
                                    "0": "hubcrop",
                                    "1": "dbo",
                                    "2": "`mansel_detalle_estimate`",
                                    "3": "BASE TABLE"
                                },
                                {
                                    "0": "hubcrop",
                                    "1": "dbo",
                                    "2": "`mansel_avance_labores`",
                                    "3": "BASE TABLE"
                                },
                                {
                                    "0": "hubcrop",
                                    "1": "dbo",
                                    "2": "`mansel_parametros_estimate`",
                                    "3": "BASE TABLE"
                                },
                                {
                                    "0": "hubcrop",
                                    "1": "dbo",
                                    "2": "`mansel_labores`",
                                    "3": "BASE TABLE"
                                },
                                {
                                    "0": "hubcrop",
                                    "1": "dbo",
                                    "2": "`mansel_datoscosecha`",
                                    "3": "BASE TABLE"
                                }
                            ]
                        },
                        "text/html": [
                            "<table>",
                            "<tr><th>TABLE_CATALOG</th><th>TABLE_SCHEMA</th><th>TABLE_NAME</th><th>TABLE_TYPE</th></tr>",
                            "<tr><td>hubcrop</td><td>dbo</td><td>`mansel_estimate`</td><td>BASE TABLE</td></tr>",
                            "<tr><td>hubcrop</td><td>dbo</td><td>`mansel_parametros_detalle_estimate`</td><td>BASE TABLE</td></tr>",
                            "<tr><td>hubcrop</td><td>dbo</td><td>`mansel_detalle_estimate`</td><td>BASE TABLE</td></tr>",
                            "<tr><td>hubcrop</td><td>dbo</td><td>`mansel_avance_labores`</td><td>BASE TABLE</td></tr>",
                            "<tr><td>hubcrop</td><td>dbo</td><td>`mansel_parametros_estimate`</td><td>BASE TABLE</td></tr>",
                            "<tr><td>hubcrop</td><td>dbo</td><td>`mansel_labores`</td><td>BASE TABLE</td></tr>",
                            "<tr><td>hubcrop</td><td>dbo</td><td>`mansel_datoscosecha`</td><td>BASE TABLE</td></tr>",
                            "</table>"
                        ]
                    }
                }
            ],
            "execution_count": 4
        }
    ]
}